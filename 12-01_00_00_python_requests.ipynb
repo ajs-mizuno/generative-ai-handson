{
  "cells": [
    {
      "cell_type": "markdown",
      "id": "f0460f67",
      "metadata": {},
      "source": [
        "# 🌐 外部サービス API 連携教材：REST API を使ったデータ取得と処理\n",
        "\n",
        "この教材では、`requests`ライブラリを使って外部の Web API にアクセスし、JSON データを取得・処理する一連の流れを学びます。  \n",
        "OpenWeatherMap や OpenAI などの実例を通じて、実践的な API 連携を体験します。\n",
        "\n",
        "---\n"
      ]
    },
    {
      "cell_type": "markdown",
      "id": "a3243540",
      "metadata": {},
      "source": [
        "## ✅ ステップ ①：API とは？\n",
        "\n",
        "### 📌 ポイント\n",
        "\n",
        "- Web サービスとの**自動通信の仕組み**\n",
        "- `HTTPリクエスト`（GET, POST など）で情報を送受信\n",
        "- データは多くの場合`JSON形式`でやりとり\n",
        "\n",
        "---\n"
      ]
    },
    {
      "cell_type": "markdown",
      "id": "74aa56e8",
      "metadata": {},
      "source": [
        "## ✅ ステップ ②：requests ライブラリの基本\n"
      ]
    },
    {
      "cell_type": "code",
      "execution_count": null,
      "id": "240157be",
      "metadata": {},
      "outputs": [],
      "source": [
        "import requests\n",
        "\n",
        "# Verify=Falseは一時的なもので本番想定では利用しないでください。\n",
        "# SSL通信の暗号化を行うための証明書の身元を検証する設定を無効化するものとなります。\n",
        "# 社内ネットワークから外部に通信するライブラリ全般は、社内証明書を参照できないためエラーとなります。\n",
        "# 社内証明書も指定することはできますが、社内証明書は世間的には古いバージョンのフォーマットのためさらにエラーが発生します。\n",
        "# (こちらを正しく対応してもらう場合、AKの証明書管理者に対応してもらう必要がある)\n",
        "# 大体はURLの宛先が適切であれば問題ないですが、証明書の発行元を検証できない場合、\n",
        "# 通信経路を傍受して外部からサイトの参照を変更された際の脆弱性となります。\n",
        "url = \"https://jsonplaceholder.typicode.com/todos\"\n",
        "response = requests.get(url, verify=False)\n",
        "\n",
        "if response.status_code == 200:\n",
        "    data = response.json()\n",
        "    print(data)\n",
        "else:\n",
        "    print(\"取得失敗\", response.status_code)"
      ]
    },
    {
      "cell_type": "markdown",
      "id": "0919d6aa",
      "metadata": {},
      "source": [
        "---\n",
        "\n",
        "## ✅ ステップ ③：実践 1 - 天気情報 API（OpenWeatherMap）\n",
        "\n",
        "### 📌 事前準備：実践 1\n",
        "\n",
        "演習で実施する場合は各自の判断で実施をお願いします。\n",
        "- [https://openweathermap.org/](https://openweathermap.org/) にて無料 API キーを取得\n",
        "\n",
        "### 📌 サンプルコード：実践 1\n"
      ]
    },
    {
      "cell_type": "code",
      "execution_count": null,
      "id": "672c0821",
      "metadata": {},
      "outputs": [],
      "source": [
        "import requests\n",
        "\n",
        "API_KEY = \"your_api_key\"\n",
        "city = \"Tokyo\"\n",
        "url = f\"https://api.openweathermap.org/data/2.5/weather?q={city}&appid={API_KEY}&units=metric&lang=ja\"\n",
        "\n",
        "response = requests.get(url, verify=False)\n",
        "weather = response.json()\n",
        "\n",
        "print(f\"{city}の天気: {weather['weather'][0]['description']}\")\n",
        "print(f\"気温: {weather['main']['temp']}°C\")\n"
      ]
    },
    {
      "cell_type": "markdown",
      "id": "53a95c23",
      "metadata": {},
      "source": [
        "---\n",
        "\n",
        "## ✅ ステップ ④：実践 2 - OpenAI API を使ったテキスト生成\n",
        "\n",
        "このステップはAPIキーを使うので参考とします。\n",
        "\n",
        "### 📌 事前準備：実践 2\n",
        "\n",
        "- OpenAI の API キーを取得：[https://platform.openai.com/](https://platform.openai.com/)\n",
        "- `openai`ライブラリをインストール\n"
      ]
    },
    {
      "cell_type": "code",
      "execution_count": null,
      "id": "949ec432",
      "metadata": {},
      "outputs": [],
      "source": [
        "%pip install openai"
      ]
    },
    {
      "cell_type": "markdown",
      "id": "e88d9a62",
      "metadata": {},
      "source": [
        "### 📌 サンプルコード：実践 2\n"
      ]
    },
    {
      "cell_type": "code",
      "execution_count": null,
      "id": "e0bc7952",
      "metadata": {},
      "outputs": [],
      "source": [
        "import openai\n",
        "\n",
        "openai.api_key = \"your_api_key\"\n",
        "\n",
        "response = openai.ChatCompletion.create(\n",
        "    model=\"gpt-4o\",\n",
        "    messages=[{\"role\": \"user\", \"content\": \"Pythonとは何か教えてください。\"}]\n",
        ")\n",
        "\n",
        "print(response.choices[0].message.content)\n"
      ]
    },
    {
      "cell_type": "markdown",
      "id": "83a213a4",
      "metadata": {},
      "source": [
        "---\n",
        "\n",
        "## ✅ ステップ ⑤：取得した JSON データの整形・保存\n",
        "\n",
        "### 📌 JSON の保存\n"
      ]
    },
    {
      "cell_type": "code",
      "execution_count": null,
      "id": "2bd252a7",
      "metadata": {},
      "outputs": [],
      "source": [
        "import json\n",
        "\n",
        "with open(\"/sample/weather.json\", \"w\", encoding=\"utf-8\") as f:\n",
        "    json.dump(weather, f, ensure_ascii=False, indent=2)\n"
      ]
    },
    {
      "cell_type": "markdown",
      "id": "6ebfbb28",
      "metadata": {},
      "source": [
        "### 📌 pandas と連携\n"
      ]
    },
    {
      "cell_type": "code",
      "execution_count": null,
      "id": "426559a7",
      "metadata": {},
      "outputs": [],
      "source": [
        "import pandas as pd\n",
        "\n",
        "main_data = weather[\"main\"]\n",
        "df = pd.DataFrame([main_data])\n",
        "df.to_csv(\"/sample/weather_summary.csv\", index=False)\n"
      ]
    },
    {
      "cell_type": "markdown",
      "id": "4fca2fab",
      "metadata": {},
      "source": [
        "---\n",
        "\n",
        "### 🚀 最終ゴール\n",
        "\n",
        "- 外部の API と連携してデータを取得・整形・保存・活用できるようになること。\n",
        "- 実務での情報収集・自動化・チャットボット・ダッシュボードなどへの応用を想定。\n"
      ]
    }
  ],
  "metadata": {
    "kernelspec": {
      "display_name": "Python 3",
      "language": "python",
      "name": "python3"
    },
    "language_info": {
      "codemirror_mode": {
        "name": "ipython",
        "version": 3
      },
      "file_extension": ".py",
      "mimetype": "text/x-python",
      "name": "python",
      "nbconvert_exporter": "python",
      "pygments_lexer": "ipython3",
      "version": "3.13.1"
    }
  },
  "nbformat": 4,
  "nbformat_minor": 5
}
