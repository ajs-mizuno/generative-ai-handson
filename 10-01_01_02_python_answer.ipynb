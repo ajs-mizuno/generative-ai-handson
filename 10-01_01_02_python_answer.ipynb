{
 "cells": [
  {
   "cell_type": "markdown",
   "id": "0dc0a112",
   "metadata": {},
   "source": [
    "## ✅ 模範解答"
   ]
  },
  {
   "cell_type": "code",
   "execution_count": null,
   "id": "896533db",
   "metadata": {},
   "outputs": [],
   "source": [
    "users = [\n",
    "    {\"name\": \"tanaka\", \"age\": 25, \"is_member\": True},\n",
    "    {\"name\": \"sato\", \"age\": 19, \"is_member\": True},\n",
    "    {\"name\": \"yamada\", \"age\": 32, \"is_member\": True},\n",
    "    {\"name\": \"kato\", \"age\": 22, \"is_member\": False}\n",
    "]\n",
    "\n",
    "# 有効会員の抽出\n",
    "valid_users = [u for u in users if u[\"age\"] >= 20 and u[\"is_member\"]]\n",
    "\n",
    "# 名前を大文字に変換\n",
    "upper_names = [u[\"name\"].upper() for u in valid_users]\n",
    "\n",
    "print(\"有効会員一覧:\", upper_names)\n",
    "\n",
    "# 年齢チェック\n",
    "if all(u[\"age\"] < 30 for u in valid_users):\n",
    "    print(\"若手中心の会員構成\")\n",
    "else:\n",
    "    print(\"年齢層は多様です\")\n"
   ]
  },
  {
   "cell_type": "markdown",
   "id": "81877367",
   "metadata": {},
   "source": [
    "## ✏️ 解説ポイント\n",
    "\n",
    "* **リスト内包表記**：条件を満たす要素抽出と変換を一行で実現。\n",
    "* **辞書の参照**：`user[\"age\"]`などで属性にアクセス。\n",
    "* **`all()`関数**：全てが条件を満たすかを確認。\n",
    "* **文字列変換**：`.upper()`で大文字化。\n"
   ]
  }
 ],
 "metadata": {
  "kernelspec": {
   "display_name": "venv",
   "language": "python",
   "name": "python3"
  },
  "language_info": {
   "codemirror_mode": {
    "name": "ipython",
    "version": 3
   },
   "file_extension": ".py",
   "mimetype": "text/x-python",
   "name": "python",
   "nbconvert_exporter": "python",
   "pygments_lexer": "ipython3",
   "version": "3.13.1"
  }
 },
 "nbformat": 4,
 "nbformat_minor": 5
}
