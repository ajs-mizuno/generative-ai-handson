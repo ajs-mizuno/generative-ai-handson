{
 "cells": [
  {
   "cell_type": "markdown",
   "id": "2654ecfc",
   "metadata": {},
   "source": [
    "# 🐍 Python文法チートシート\n",
    "\n",
    "本講座では一般的なプログラミングの基礎を知っている前提※でPythonにおける基本的なプログラムの扱い方について学びます。"
   ]
  },
  {
   "cell_type": "markdown",
   "id": "5747f909",
   "metadata": {},
   "source": [
    "## 🔹 1. 基本文法"
   ]
  },
  {
   "cell_type": "code",
   "execution_count": null,
   "id": "fa5dda0b",
   "metadata": {},
   "outputs": [],
   "source": [
    "# コメント\n",
    "# 1行だけの説明\n",
    "\n",
    "# 出力\n",
    "print(\"こんにちは\")\n",
    "\n",
    "# 変数\n",
    "name = \"田中\"\n",
    "age = 30\n",
    "\n",
    "# 文字列と数値の連続\n",
    "print(name + \"さんは\" + str(age) + \"歳です\")"
   ]
  },
  {
   "cell_type": "markdown",
   "id": "09a22ed9",
   "metadata": {},
   "source": [
    "### ◼ 型変換 (Casting)"
   ]
  },
  {
   "cell_type": "code",
   "execution_count": null,
   "id": "dde7f7cf",
   "metadata": {},
   "outputs": [],
   "source": [
    "str(123)       # \"123\"\n",
    "int(\"45\")      # 45\n",
    "float(\"3.14\")  # 3.14\n",
    "bool(0)        # False\n",
    "list(\"abc\")    # [\"a\", \"b\", \"c\"]"
   ]
  },
  {
   "cell_type": "markdown",
   "id": "751db2a2",
   "metadata": {},
   "source": [
    "## 🔁 2. 条件分岐 (if)"
   ]
  },
  {
   "cell_type": "code",
   "execution_count": null,
   "id": "d34c04ea",
   "metadata": {},
   "outputs": [],
   "source": [
    "score = 75\n",
    "if score >= 80:\n",
    "    print(\"合格\")\n",
    "elif score >= 60:\n",
    "    print(\"良\")\n",
    "else:\n",
    "    print(\"不可\")"
   ]
  },
  {
   "cell_type": "code",
   "execution_count": null,
   "id": "ea5720d8",
   "metadata": {},
   "outputs": [],
   "source": [
    "is_member=True\n",
    "if age >= 20 and is_member:\n",
    "    print(\"会員登録可\")\n",
    "day=\"日\"\n",
    "if day in [\"土\", \"日\"]:\n",
    "    print(\"休日\")"
   ]
  },
  {
   "cell_type": "code",
   "execution_count": null,
   "id": "3ce0566b",
   "metadata": {},
   "outputs": [],
   "source": [
    "if \"\": pass  # False\n",
    "if 0: pass\n",
    "if None: pass\n",
    "if []: pass\n",
    "if \"OK\": pass  # True"
   ]
  },
  {
   "cell_type": "code",
   "execution_count": null,
   "id": "c8a9cbea",
   "metadata": {},
   "outputs": [],
   "source": [
    "score=60\n",
    "result = \"合格\" if score >= 60 else \"不合\"\n",
    "print(result)"
   ]
  },
  {
   "cell_type": "markdown",
   "id": "f4db7281",
   "metadata": {},
   "source": [
    "## 🔄 3. 繰り返し (for)"
   ]
  },
  {
   "cell_type": "code",
   "execution_count": null,
   "id": "47ab7b2f",
   "metadata": {},
   "outputs": [],
   "source": [
    "for i in range(5):\n",
    "    print(i)\n",
    "\n",
    "names = [\"田中\", \"佐藤\"]\n",
    "for name in names:\n",
    "    print(name)\n",
    "\n",
    "for i, name in enumerate(names):\n",
    "    print(i, name)"
   ]
  },
  {
   "cell_type": "markdown",
   "id": "e575cea5",
   "metadata": {},
   "source": [
    "## 📦 4. 配列 / リスト"
   ]
  },
  {
   "cell_type": "code",
   "execution_count": null,
   "id": "f6e27603",
   "metadata": {},
   "outputs": [],
   "source": [
    "fruits = [\"りんご\", \"ばなな\"]\n",
    "fruits.append(\"みかん\")\n",
    "fruits.remove(\"りんご\")\n",
    "print(len(fruits))"
   ]
  },
  {
   "cell_type": "code",
   "execution_count": null,
   "id": "338c46c2",
   "metadata": {},
   "outputs": [],
   "source": [
    "squares = [x * x for x in range(5)]\n",
    "print(squares)"
   ]
  },
  {
   "cell_type": "code",
   "execution_count": null,
   "id": "0c8ada00",
   "metadata": {},
   "outputs": [],
   "source": [
    "a = [1, 2]\n",
    "b = [3, 4]\n",
    "combined = a + b\n",
    "print(combined)"
   ]
  },
  {
   "cell_type": "code",
   "execution_count": null,
   "id": "f32fee2a",
   "metadata": {},
   "outputs": [],
   "source": [
    "nums = [10, 20, 30, 40]\n",
    "print(nums[0])\n",
    "print(nums[-1])\n",
    "print(nums[1:3])"
   ]
  },
  {
   "cell_type": "code",
   "execution_count": null,
   "id": "7f83133e",
   "metadata": {},
   "outputs": [],
   "source": [
    "users = [\n",
    "    {\"name\": \"田中\", \"age\": 30},\n",
    "    {\"name\": \"佐藤\", \"age\": 25}\n",
    "]\n",
    "user = next((u for u in users if u[\"name\"] == \"佐藤\"), None)\n",
    "print(user)"
   ]
  },
  {
   "cell_type": "code",
   "execution_count": null,
   "id": "b88ae89e",
   "metadata": {},
   "outputs": [],
   "source": [
    "scores = [80, 55, 90, 60]\n",
    "passed = [s for s in scores if s >= 60]\n",
    "print(passed)"
   ]
  },
  {
   "cell_type": "code",
   "execution_count": null,
   "id": "01df3d0a",
   "metadata": {},
   "outputs": [],
   "source": [
    "names = [\"tanaka\", \"sato\"]\n",
    "upper_names = [n.upper() for n in names]\n",
    "print(upper_names)"
   ]
  },
  {
   "cell_type": "markdown",
   "id": "ca42242d",
   "metadata": {},
   "source": [
    "## 🔑 5. 連想配列 / 辞書 (dict)"
   ]
  },
  {
   "cell_type": "code",
   "execution_count": null,
   "id": "392b7cc6",
   "metadata": {},
   "outputs": [],
   "source": [
    "user = {\"name\": \"田中\", \"age\": 30}\n",
    "print(user[\"name\"])\n",
    "user[\"age\"] = 31\n",
    "\n",
    "if \"email\" in user:\n",
    "    print(user.get(\"email\", \"未登録\"))\n",
    "\n",
    "for k, v in user.items():\n",
    "    print(k, v)"
   ]
  },
  {
   "cell_type": "code",
   "execution_count": null,
   "id": "88771705",
   "metadata": {},
   "outputs": [],
   "source": [
    "scores = {\"田中\": 80, \"佐藤\": 60}\n",
    "passed = {k: v for k, v in scores.items() if v >= 70}\n",
    "print(passed)"
   ]
  },
  {
   "cell_type": "code",
   "execution_count": null,
   "id": "5eb2fd68",
   "metadata": {},
   "outputs": [],
   "source": [
    "user = {\"name\": \"田中\", \"age\": 30}\n",
    "del user[\"age\"]\n",
    "print(user)"
   ]
  },
  {
   "cell_type": "code",
   "execution_count": null,
   "id": "2483b671",
   "metadata": {},
   "outputs": [],
   "source": [
    "d1 = {\"a\": 1, \"b\": 2}\n",
    "d2 = {\"b\": 3, \"c\": 4}\n",
    "merged = {**d1, **d2}\n",
    "print(merged)"
   ]
  },
  {
   "cell_type": "markdown",
   "id": "a4dc4362",
   "metadata": {},
   "source": [
    "## 📊 6. 関数"
   ]
  },
  {
   "cell_type": "code",
   "execution_count": null,
   "id": "ff0d4236",
   "metadata": {},
   "outputs": [],
   "source": [
    "def greet(name):\n",
    "    print(f\"こんにちは、{name}さん\")\n",
    "greet(\"佐藤\")"
   ]
  },
  {
   "cell_type": "code",
   "execution_count": null,
   "id": "643e0d57",
   "metadata": {},
   "outputs": [],
   "source": [
    "def greet(name=\"ゲスト\"):\n",
    "    print(f\"ようこそ、{name}さん\")\n",
    "greet()\n",
    "greet(\"田中\")"
   ]
  },
  {
   "cell_type": "code",
   "execution_count": null,
   "id": "ebc2287a",
   "metadata": {},
   "outputs": [],
   "source": [
    "def add(a, b):\n",
    "    return a + b\n",
    "print(add(2, 3))\n",
    "print(add(b=5, a=1))"
   ]
  },
  {
   "cell_type": "code",
   "execution_count": null,
   "id": "04907b4c",
   "metadata": {},
   "outputs": [],
   "source": [
    "def total(*numbers):\n",
    "    return sum(numbers)\n",
    "print(total(1, 2, 3))"
   ]
  },
  {
   "cell_type": "code",
   "execution_count": null,
   "id": "ee490d85",
   "metadata": {},
   "outputs": [],
   "source": [
    "def show_user(**info):\n",
    "    for k, v in info.items():\n",
    "        print(k, \":\", v)\n",
    "show_user(name=\"田中\", age=30)"
   ]
  },
  {
   "cell_type": "markdown",
   "id": "827a0705",
   "metadata": {},
   "source": [
    "## 📃 7. ファイル操作"
   ]
  },
  {
   "cell_type": "code",
   "execution_count": null,
   "id": "948d9379",
   "metadata": {},
   "outputs": [],
   "source": [
    "with open(\"./data/sample.txt\", encoding=\"utf-8\") as f:\n",
    "    text = f.read()\n",
    "    print(text)"
   ]
  },
  {
   "cell_type": "code",
   "execution_count": null,
   "id": "ea4e844b",
   "metadata": {},
   "outputs": [],
   "source": [
    "import csv\n",
    "with open(\"./data/sales.csv\", encoding=\"utf-8\") as f:\n",
    "    reader = csv.DictReader(f)\n",
    "    for row in reader:\n",
    "        print(row[\"名前\"], row[\"売上\"])"
   ]
  },
  {
   "cell_type": "code",
   "execution_count": null,
   "id": "2eef943e",
   "metadata": {},
   "outputs": [],
   "source": [
    "import json\n",
    "with open(\"./data/sales.json\", encoding=\"utf-8\") as f:\n",
    "    data = json.load(f)\n",
    "print(data[0][\"name\"])"
   ]
  },
  {
   "cell_type": "markdown",
   "id": "76b3bafd",
   "metadata": {},
   "source": [
    "## 🗓 8. 日付データ"
   ]
  },
  {
   "cell_type": "code",
   "execution_count": null,
   "id": "7d0542d6",
   "metadata": {},
   "outputs": [],
   "source": [
    "from datetime import date, datetime, timedelta\n",
    "\n",
    "today = date.today()\n",
    "now = datetime.now()\n",
    "\n",
    "dt = datetime.strptime(\"2025-06-01\", \"%Y-%m-%d\")\n",
    "print(dt.strftime(\"%Y/%m/%d\"))\n",
    "\n",
    "start = date(2025, 5, 25)\n",
    "print((today - start).days)\n",
    "\n",
    "future = today + timedelta(days=7)"
   ]
  },
  {
   "cell_type": "markdown",
   "id": "47f39492",
   "metadata": {},
   "source": [
    "## 📄 9. その他のテクニック"
   ]
  },
  {
   "cell_type": "code",
   "execution_count": null,
   "id": "c79d3570",
   "metadata": {},
   "outputs": [],
   "source": [
    "scores = [70, 80, 90]\n",
    "if all(score >= 60 for score in scores):\n",
    "    print(\"全員合格\")"
   ]
  },
  {
   "cell_type": "code",
   "execution_count": null,
   "id": "838db0c4",
   "metadata": {},
   "outputs": [],
   "source": [
    "try:\n",
    "    num = int(input(\"数字を入力: \"))\n",
    "except ValueError:\n",
    "    print(\"数字ではありません\")"
   ]
  },
  {
   "cell_type": "code",
   "execution_count": null,
   "id": "a82e0285",
   "metadata": {},
   "outputs": [],
   "source": [
    "name, age = (\"田中\", 30)\n",
    "print(f\"名前:{name}, 年齢:{age}\")"
   ]
  },
  {
   "cell_type": "markdown",
   "id": "ad36b94a",
   "metadata": {},
   "source": [
    "## 📝 一覧チート (よく出る文法)\n",
    "\n",
    "| 文法                        | 意味            |\n",
    "| ------------------------- | ------------- |\n",
    "| `if / else`               | 条件分岐          |\n",
    "| `for`                     | 繰り返し          |\n",
    "| `in`                      | 含まれているか       |\n",
    "| `.append()`               | 配列に追加         |\n",
    "| `.get()`                  | 辞書から値取得       |\n",
    "| `.items()`                | 辞書のペアループ      |\n",
    "| `str() / int() / float()` | 型変換           |\n",
    "| `with`                    | リソース自動解放      |\n",
    "| `datetime`                | 日付操作          |\n",
    "| `f\"{}\"`                   | f文字列 (format) |"
   ]
  }
 ],
 "metadata": {
  "kernelspec": {
   "display_name": "venv",
   "language": "python",
   "name": "python3"
  },
  "language_info": {
   "codemirror_mode": {
    "name": "ipython",
    "version": 3
   },
   "file_extension": ".py",
   "mimetype": "text/x-python",
   "name": "python",
   "nbconvert_exporter": "python",
   "pygments_lexer": "ipython3",
   "version": "3.13.1"
  }
 },
 "nbformat": 4,
 "nbformat_minor": 5
}
