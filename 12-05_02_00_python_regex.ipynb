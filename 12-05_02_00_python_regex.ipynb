{
 "cells": [
  {
   "cell_type": "markdown",
   "id": "7e5bb4fe",
   "metadata": {},
   "source": [
    "正規表現（Regex）は、テキストデータの**標準化（正規化）・抽出・加工**を効率よく行うために非常に有用なツールです。以下に、用途別に実践的な事例とその正規表現の使い方を解説します。\n",
    "\n",
    "---\n",
    "\n",
    "## ✅ 1. **テキストの標準化（正規化）**\n",
    "\n",
    "### 事例：全角英数字→半角英数字への変換（Python側で対応）\n",
    "\n",
    "正規表現というよりは `re` モジュールと組み合わせることで前処理を統一できます。"
   ]
  },
  {
   "cell_type": "code",
   "execution_count": null,
   "id": "cc955e74",
   "metadata": {},
   "outputs": [],
   "source": [
    "import re\n",
    "import unicodedata\n",
    "\n",
    "text = \"Ｔｅｓｔ１２３\"\n",
    "normalized = unicodedata.normalize(\"NFKC\", text)\n",
    "print(normalized)  # 出力: Test123"
   ]
  },
  {
   "cell_type": "markdown",
   "id": "d2159ece",
   "metadata": {},
   "source": [
    "> 🔍 **ポイント**：正規表現の前に、Unicode正規化を使うことで後続処理の安定性が増します。\n",
    "\n",
    "---\n",
    "\n",
    "## ✅ 2. **パターン抽出**\n",
    "\n",
    "### 事例1：メールアドレスの抽出"
   ]
  },
  {
   "cell_type": "code",
   "execution_count": null,
   "id": "a1b0376d",
   "metadata": {},
   "outputs": [],
   "source": [
    "import re\n",
    "\n",
    "text = \"お問い合わせは info@example.com までお願いします。\"\n",
    "emails = re.findall(r'[a-zA-Z0-9_.+-]+@[a-zA-Z0-9-]+\\.[a-zA-Z0-9-.]+', text)\n",
    "print(emails)  # ['info@example.com']"
   ]
  },
  {
   "cell_type": "markdown",
   "id": "7c38536f",
   "metadata": {},
   "source": [
    "> 🔍 **ポイント**：`.findall()`で複数抽出。ドメインは「.co.jp」などの複数階層も対応。"
   ]
  },
  {
   "cell_type": "markdown",
   "id": "d464ffaa",
   "metadata": {},
   "source": [
    "\n",
    "### 事例2：日付の抽出（YYYY/MM/DD形式）\n"
   ]
  },
  {
   "cell_type": "code",
   "execution_count": null,
   "id": "3efbf2c5",
   "metadata": {},
   "outputs": [],
   "source": [
    "text = \"イベントは2025/06/17に開催されます。\"\n",
    "date = re.search(r'(\\d{4})[/-](\\d{1,2})[/-](\\d{1,2})', text)\n",
    "print(date.groups())  # ('2025', '06', '17')"
   ]
  },
  {
   "cell_type": "markdown",
   "id": "9847ed8c",
   "metadata": {},
   "source": [
    "> 🔍 **ポイント**：年月日をグループ化して抽出。フォーマットが混在していても対応可能。"
   ]
  },
  {
   "cell_type": "markdown",
   "id": "0f50dcbc",
   "metadata": {},
   "source": [
    "## ✅ 3. **文字列の整形・置換（加工）**\n",
    "\n",
    "### 事例1：電話番号の整形（ハイフン付け）\n"
   ]
  },
  {
   "cell_type": "code",
   "execution_count": null,
   "id": "7b1eccb7",
   "metadata": {},
   "outputs": [],
   "source": [
    "text = \"お問い合わせ: 09012345678\"\n",
    "formatted = re.sub(r'(\\d{3})(\\d{4})(\\d{4})', r'\\1-\\2-\\3', text)\n",
    "print(formatted)  # お問い合わせ: 090-1234-5678\n"
   ]
  },
  {
   "cell_type": "markdown",
   "id": "7961fd25",
   "metadata": {},
   "source": [
    "> 🔍 **ポイント**：`re.sub`の第3引数でキャプチャしたグループを順に再配置できる。\n"
   ]
  },
  {
   "cell_type": "markdown",
   "id": "167f9f76",
   "metadata": {},
   "source": [
    "### 事例2：HTMLタグ除去（簡易）\n"
   ]
  },
  {
   "cell_type": "code",
   "execution_count": null,
   "id": "699527df",
   "metadata": {},
   "outputs": [],
   "source": [
    "html = \"<p>こんにちは</p><br><div>テスト</div>\"\n",
    "clean = re.sub(r'<.*?>', '', html)\n",
    "print(clean)  # こんにちはテスト\n"
   ]
  },
  {
   "cell_type": "markdown",
   "id": "c54fd97e",
   "metadata": {},
   "source": [
    "> 🔍 **注意**：HTMLタグは構造が複雑なため、基本はHTMLパーサ使用推奨（例：`BeautifulSoup`）。"
   ]
  },
  {
   "cell_type": "markdown",
   "id": "371f13fc",
   "metadata": {},
   "source": [
    "## ✅ 4. **否定条件や前後関係の抽出**\n",
    "\n",
    "### 事例：特定のキーワードの**前後を含めて**抽出（前方・後方一致）\n"
   ]
  },
  {
   "cell_type": "code",
   "execution_count": null,
   "id": "49e9291a",
   "metadata": {},
   "outputs": [],
   "source": [
    "text = \"商品コード: ABC123 は特価です。\"\n",
    "match = re.search(r'(?<=商品コード:\\s)[A-Z]+\\d+', text)\n",
    "print(match.group())  # ABC123\n"
   ]
  },
  {
   "cell_type": "markdown",
   "id": "b17009cd",
   "metadata": {},
   "source": [
    "> 🔍 `(?<=...)` は**後読み**。`(?=...)` は**先読み**。条件を満たすが出力には含めない。\n"
   ]
  },
  {
   "cell_type": "markdown",
   "id": "5999fb9f",
   "metadata": {},
   "source": [
    "## ✅ 5. **データのフィルタリング**\n",
    "\n",
    "### 事例：カンマ区切りの値の中から日本語が含まれる要素を抽出\n"
   ]
  },
  {
   "cell_type": "code",
   "execution_count": null,
   "id": "3cc386a2",
   "metadata": {},
   "outputs": [],
   "source": [
    "text = \"Apple,バナナ,Orange,ミカン,123\"\n",
    "japanese_words = re.findall(r'[一-龥ぁ-んァ-ン]+', text)\n",
    "print(japanese_words)  # ['バナナ', 'ミカン']"
   ]
  },
  {
   "cell_type": "markdown",
   "id": "c206993c",
   "metadata": {},
   "source": [
    "## ✅ 6. **任意の括弧でくくられた文字列の抽出**\n",
    "\n",
    "### ◉ 事例1：全角・半角の「丸括弧」`()` または `（）` を含む文字列の抽出\n"
   ]
  },
  {
   "cell_type": "code",
   "execution_count": null,
   "id": "5232391c",
   "metadata": {},
   "outputs": [],
   "source": [
    "import re\n",
    "\n",
    "text = \"この製品（新モデル）は非常に人気です。旧製品(参考)もあります。\"\n",
    "results = re.findall(r'[\\(（](.*?)[\\)）]', text)\n",
    "print(results)  # ['新モデル', '参考']\n"
   ]
  },
  {
   "cell_type": "markdown",
   "id": "7c5128c9",
   "metadata": {},
   "source": [
    "> 🔍 **ポイント**：\n",
    "\n",
    "* `\\(（` と `\\)）` で半角と全角の括弧を両方対応。\n",
    "* `.*?` は**最短一致**（欲張らないマッチ）を指定。"
   ]
  },
  {
   "cell_type": "markdown",
   "id": "149bc6d9",
   "metadata": {},
   "source": [
    "### ◉ 事例2：角括弧 `[ ]` 内の文字列を抽出（例：タグ抽出）\n"
   ]
  },
  {
   "cell_type": "code",
   "execution_count": null,
   "id": "ff5965e4",
   "metadata": {},
   "outputs": [],
   "source": [
    "text = \"本のカテゴリ：[小説]、[歴史]、[科学]\"\n",
    "tags = re.findall(r'\\[(.*?)\\]', text)\n",
    "print(tags)  # ['小説', '歴史', '科学']\n"
   ]
  },
  {
   "cell_type": "markdown",
   "id": "9c28f960",
   "metadata": {},
   "source": [
    "### ◉ 事例3：ネストを考慮しない中括弧 `{}` 抽出（例：テンプレート記法）\n"
   ]
  },
  {
   "cell_type": "code",
   "execution_count": null,
   "id": "6e73f19c",
   "metadata": {},
   "outputs": [],
   "source": [
    "text = \"ユーザー名: {username}、パスワード: {password}\"\n",
    "placeholders = re.findall(r'\\{(.*?)\\}', text)\n",
    "print(placeholders)  # ['username', 'password']\n"
   ]
  },
  {
   "cell_type": "markdown",
   "id": "c221153d",
   "metadata": {},
   "source": [
    "## ✅ 7. **Markdown形式のデータの抽出**\n",
    "Markdown文法に特有の記法を対象に、正規表現で抽出する例を紹介します。\n"
   ]
  },
  {
   "cell_type": "markdown",
   "id": "7febf540",
   "metadata": {},
   "source": [
    "### ◉ 事例1：Markdownの見出し（`# 見出し`）の抽出\n"
   ]
  },
  {
   "cell_type": "code",
   "execution_count": null,
   "id": "d142d258",
   "metadata": {},
   "outputs": [],
   "source": [
    "text = \"# タイトル1\\n## サブタイトル\\n### 小見出し\"\n",
    "headings = re.findall(r'^\\s{0,3}#{1,6}\\s+(.*)', text, flags=re.MULTILINE)\n",
    "print(headings)  # ['タイトル1', 'サブタイトル', '小見出し']"
   ]
  },
  {
   "cell_type": "markdown",
   "id": "74ce66e1",
   "metadata": {},
   "source": [
    "> 🔍 **ポイント**：`^\\s{0,3}#{1,6}` は最大6つまでの見出し `#` をマッチ。\n"
   ]
  },
  {
   "cell_type": "markdown",
   "id": "5512d12c",
   "metadata": {},
   "source": [
    "### ◉ 事例2：Markdownのリンク `[テキスト](URL)` の抽出\n"
   ]
  },
  {
   "cell_type": "code",
   "execution_count": null,
   "id": "5e75d1b1",
   "metadata": {},
   "outputs": [],
   "source": [
    "text = \"詳しくは [公式サイト](https://example.com) をご覧ください。\"\n",
    "links = re.findall(r'\\[([^\\]]+)\\]\\((https?://[^\\)]+)\\)', text)\n",
    "print(links)  # [('公式サイト', 'https://example.com')]\n"
   ]
  },
  {
   "cell_type": "markdown",
   "id": "69f53e45",
   "metadata": {},
   "source": [
    "> 🔍 **出力形式**：リンクテキストとURLのタプル。\n"
   ]
  },
  {
   "cell_type": "markdown",
   "id": "b7015d3e",
   "metadata": {},
   "source": [
    "### ◉ 事例3：Markdownのコードブロック（` ``` `）の抽出\n"
   ]
  },
  {
   "cell_type": "code",
   "execution_count": null,
   "id": "e44e2586",
   "metadata": {},
   "outputs": [],
   "source": [
    "text = \"\"\"\n",
    "ここからコードです：\n",
    "```python\n",
    "def hello():\n",
    "    print(\"Hello, World!\")\n",
    "```\n",
    "\n",
    "以上です。\n",
    "\"\"\"\n",
    "blocks = re.findall(r'`[\\w]*\\n(.*?)`', text, flags=re.DOTALL)\n",
    "print(blocks)  # \\['def hello():\\n    print(\"Hello, World!\")']"
   ]
  },
  {
   "cell_type": "markdown",
   "id": "b23f3296",
   "metadata": {},
   "source": [
    "> 🔍 **ポイント**：\n",
    "- `[\\w]*` で言語指定（例：`python`）を含んでも抽出可能。\n",
    "- `re.DOTALL` を使うことで改行を含むマッチが可能。\n"
   ]
  },
  {
   "cell_type": "markdown",
   "id": "5dfe9c68",
   "metadata": {},
   "source": [
    "### ◉ 事例4：Markdownの箇条書き `- 項目` の抽出"
   ]
  },
  {
   "cell_type": "code",
   "execution_count": null,
   "id": "3c88e535",
   "metadata": {},
   "outputs": [],
   "source": [
    "text = \"\"\"\n",
    "- りんご\n",
    "- ばなな\n",
    "- みかん\n",
    "\"\"\"\n",
    "items = re.findall(r'^\\s*-\\s+(.*)', text, flags=re.MULTILINE)\n",
    "print(items)  # ['りんご', 'ばなな', 'みかん']\n"
   ]
  },
  {
   "cell_type": "markdown",
   "id": "11c91e08",
   "metadata": {},
   "source": [
    "## ✅ 8. **Markdownの箇条書きの抽出**\n",
    "\n",
    "### ◉ 対応する箇条書きの種類\n",
    "\n",
    "| 種類           | 記法例                        |\n",
    "| ------------ | -------------------------- |\n",
    "| ✔ 箇条書き（番号なし） | `- 項目`, `* 項目`, `+ 項目`     |\n",
    "| ✔ 番号付きリスト    | `1. 項目`, `2. 項目`, `10. 項目` |\n",
    "\n",
    "\n",
    "## 🔍 正規表現での抽出例\n",
    "\n",
    "### 📌 事例1：番号なしリスト（- / \\* / +）\n"
   ]
  },
  {
   "cell_type": "code",
   "execution_count": null,
   "id": "00a9ddaf",
   "metadata": {},
   "outputs": [],
   "source": [
    "import re\n",
    "\n",
    "markdown = \"\"\"\n",
    "- リンゴ\n",
    "* バナナ\n",
    "+ みかん\n",
    "\"\"\"\n",
    "\n",
    "items = re.findall(r'^\\s*[-*+]\\s+(.*)', markdown, flags=re.MULTILINE)\n",
    "print(items)  # ['リンゴ', 'バナナ', 'みかん']"
   ]
  },
  {
   "cell_type": "markdown",
   "id": "f3f8417b",
   "metadata": {},
   "source": [
    "> ✅ **解説**：\n",
    "\n",
    "* `^\\s*[-*+]`：行頭に空白＋`-`または`*`または`+`\n",
    "* `\\s+`：スペース1つ以上\n",
    "* `.*`：項目名をキャプチャ\n"
   ]
  },
  {
   "cell_type": "markdown",
   "id": "ad11a813",
   "metadata": {},
   "source": [
    "### 📌 事例2：番号付きリスト\n"
   ]
  },
  {
   "cell_type": "code",
   "execution_count": null,
   "id": "e251a1d8",
   "metadata": {},
   "outputs": [],
   "source": [
    "markdown = \"\"\"\n",
    "1. りんご\n",
    "2. バナナ\n",
    "10. みかん\n",
    "\"\"\"\n",
    "\n",
    "numbered_items = re.findall(r'^\\s*\\d+\\.\\s+(.*)', markdown, flags=re.MULTILINE)\n",
    "print(numbered_items)  # ['りんご', 'バナナ', 'みかん']"
   ]
  },
  {
   "cell_type": "markdown",
   "id": "e76673a3",
   "metadata": {},
   "source": [
    "> ✅ **解説**：\n",
    "\n",
    "* `\\d+\\.`：数字＋ピリオド\n",
    "* `\\s+`：スペース1つ以上\n",
    "* `.*`：項目名をキャプチャ\n"
   ]
  },
  {
   "cell_type": "markdown",
   "id": "000b9439",
   "metadata": {},
   "source": [
    "### 📌 番号付き／なしの箇条書きを**まとめて抽出**\n"
   ]
  },
  {
   "cell_type": "code",
   "execution_count": null,
   "id": "69d481ed",
   "metadata": {},
   "outputs": [],
   "source": [
    "markdown = \"\"\"\n",
    "- リンゴ\n",
    "1. バナナ\n",
    "* みかん\n",
    "2. オレンジ\n",
    "\"\"\"\n",
    "\n",
    "all_items = re.findall(r'^\\s*(?:[-*+]|(?:\\d+\\.))\\s+(.*)', markdown, flags=re.MULTILINE)\n",
    "print(all_items)  # ['リンゴ', 'バナナ', 'みかん', 'オレンジ']"
   ]
  },
  {
   "cell_type": "markdown",
   "id": "a85d3e91",
   "metadata": {},
   "source": [
    "> ✅ **解説**：\n",
    "\n",
    "* `(?:...)` は非キャプチャグループ（抽出対象ではない）\n",
    "* `(?:[-*+]|(?:\\d+\\.))` で箇条書き全種に対応\n"
   ]
  },
  {
   "cell_type": "markdown",
   "id": "e37c6024",
   "metadata": {},
   "source": [
    "## 🧠 補足：ネストされたリストの処理\n",
    "\n",
    "例えば以下のようなネストリストの場合、インデント情報を含めて抽出可能です。\n",
    "```markdown\n",
    "- 果物\n",
    "  - リンゴ\n",
    "  - みかん\n",
    "```"
   ]
  },
  {
   "cell_type": "code",
   "execution_count": null,
   "id": "d2f854f3",
   "metadata": {},
   "outputs": [],
   "source": [
    "markdown_nested = \"\"\"\n",
    "- 果物\n",
    "  - リンゴ\n",
    "  - みかん\n",
    "\"\"\"\n",
    "\n",
    "nested = re.findall(r'^(\\s*)[-*+]\\s+(.*)', markdown_nested, flags=re.MULTILINE)\n",
    "for indent, item in nested:\n",
    "    level = len(indent) // 2  # スペース2個で1階層\n",
    "    print(f\"Level {level}: {item}\")"
   ]
  },
  {
   "cell_type": "markdown",
   "id": "c200c9a0",
   "metadata": {},
   "source": [
    "出力例：\n",
    "\n",
    "```\n",
    "Level 0: 果物\n",
    "Level 1: リンゴ\n",
    "Level 1: みかん"
   ]
  },
  {
   "cell_type": "markdown",
   "id": "5a97916c",
   "metadata": {},
   "source": [
    "## 📦 まとめ表\n",
    "\n",
    "| 用途         | 正規表現                              |                     |\n",
    "| ---------- | --------------------------------- | ------------------- |\n",
    "| 箇条書き（番号なし） | `^\\s*[-*+]\\s+(.*)`                |                     |\n",
    "| 箇条書き（番号あり） | `^\\s*\\d+\\.\\s+(.*)`                |                     |\n",
    "| 両対応（まとめて）  | \\`^\\s\\*(?:\\[-\\*+]                 | (?:\\d+.))\\s+(.\\*)\\` |\n",
    "| ネスト階層付き抽出  | `^(\\s*)[-*+]\\s+(.*)`（インデント長で階層算出） |                     |\n",
    "\n",
    "---\n",
    "\n",
    "必要に応じて、抽出した箇条書きをJSON化・CSV化・HTML化などの活用にも展開できます。\n",
    "ご希望あればその例もお出しできます！\n",
    "\n",
    "## 🔄 応用アイデア\n",
    "\n",
    "| 用途                  | 正規表現例（簡略）                           |\n",
    "| ------------------- | ----------------------------------- |\n",
    "| `() [] {}`など任意括弧の抽出 | `[\\(\\[{](.*?)[\\)\\]}]`               |\n",
    "| Markdownリンク         | `\\[([^\\]]+)\\]\\((https?://[^\\)]+)\\)` |\n",
    "| コードブロック             | ` ```[\\w]*\\n(.*?)``` ` （DOTALL）     |\n",
    "| 見出し                 | `^\\s{0,3}#{1,6}\\s+(.+)` （MULTILINE） |\n",
    "| 強調                  | `\\*\\*(.+?)\\*\\*` や `__(.+?)__`       |\n",
    "\n",
    "---\n",
    "\n",
    "必要に応じて、**パターンに合わせて抽出してCSV化**、**HTML化して一覧表示**などの実践タスクにも組み込めます。\n",
    "ご希望があれば、具体的なスクリプトに展開することもできます！\n",
    "\n",
    "## 🔧 補足：よく使う正規表現パターン集\n",
    "\n",
    "| 用途     | 正規表現例           | 説明               |\n",
    "| ------ | --------------- | ---------------- |\n",
    "| 数字     | `\\d+`           | 1文字以上の数字         |\n",
    "| 英単語    | `\\b[a-zA-Z]+\\b` | 単語単位の英字          |\n",
    "| 空白除去   | `\\s+`           | 連続した空白           |\n",
    "| 全角カナ   | `[ァ-ヶー]+`       | カタカナ             |\n",
    "| 日本語文字列 | `[一-龥ぁ-んァ-ン]`   | ひらがな・カタカナ・漢字を対象に |\n",
    "\n",
    "---\n",
    "\n",
    "## 💡 活用のヒント\n",
    "\n",
    "* **前処理工程に定型のルールがある場合、正規表現をテンプレート化**して管理すると効率的です。\n",
    "* **曖昧なルールには正規表現よりも構造的な処理（パーサ等）の導入を検討**するとよいです。\n"
   ]
  }
 ],
 "metadata": {
  "kernelspec": {
   "display_name": "venv",
   "language": "python",
   "name": "python3"
  },
  "language_info": {
   "codemirror_mode": {
    "name": "ipython",
    "version": 3
   },
   "file_extension": ".py",
   "mimetype": "text/x-python",
   "name": "python",
   "nbconvert_exporter": "python",
   "pygments_lexer": "ipython3",
   "version": "3.13.1"
  }
 },
 "nbformat": 4,
 "nbformat_minor": 5
}
