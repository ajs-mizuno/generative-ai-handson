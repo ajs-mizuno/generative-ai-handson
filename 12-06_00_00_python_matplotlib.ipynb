{
 "cells": [
  {
   "cell_type": "markdown",
   "id": "8e81e02b",
   "metadata": {},
   "source": [
    "# 📊 可視化とレポート出力教材：データの見える化と共有\n",
    "\n",
    "この教材では、pandas や matplotlib、python-docx などを用いて、分析したデータを「見える化」したり「レポートとして出力」したりするための方法を学びます。"
   ]
  },
  {
   "cell_type": "markdown",
   "id": "faffd03a",
   "metadata": {},
   "source": [
    "## ✅ ステップ ①：matplotlib による基本グラフ描画\n",
    "\n",
    "### 📌 折れ線グラフ"
   ]
  },
  {
   "cell_type": "code",
   "execution_count": null,
   "id": "9e4d57e5",
   "metadata": {},
   "outputs": [],
   "source": [
    "import matplotlib.pyplot as plt\n",
    "\n",
    "plt.rc('font', family='Yu Gothic') #日本語ラベル\n",
    "months = [1, 2, 3, 4]\n",
    "sales = [100, 120, 90, 160]\n",
    "\n",
    "plt.plot(months, sales)\n",
    "plt.title(\"月別売上\")\n",
    "plt.xlabel(\"月\")\n",
    "plt.ylabel(\"売上\")\n",
    "plt.grid(True)\n",
    "plt.savefig(\"sales_line.png\")\n",
    "plt.show()"
   ]
  },
  {
   "cell_type": "markdown",
   "id": "69bd52d0",
   "metadata": {},
   "source": [
    "### 📌 棒グラフ"
   ]
  },
  {
   "cell_type": "code",
   "execution_count": null,
   "id": "26f2254f",
   "metadata": {},
   "outputs": [],
   "source": [
    "categories = [\"A\", \"B\", \"C\"]\n",
    "values = [30, 70, 50]\n",
    "plt.rc('font', family='Yu Gothic') #日本語ラベル\n",
    "plt.bar(categories, values)\n",
    "plt.title(\"カテゴリ別集計\")\n",
    "plt.savefig(\"category_bar.png\")\n",
    "plt.show()"
   ]
  },
  {
   "cell_type": "markdown",
   "id": "238ab283",
   "metadata": {},
   "source": [
    "## ✅ ステップ ②：pandas と組み合わせた可視化"
   ]
  },
  {
   "cell_type": "code",
   "execution_count": null,
   "id": "2b100818",
   "metadata": {},
   "outputs": [],
   "source": [
    "import pandas as pd\n",
    "import matplotlib.pyplot as plt\n",
    "\n",
    "df = pd.read_csv(\"./data/sales.csv\")\n",
    "df_grouped = df.groupby(\"月\")[\"売上\"].sum()\n",
    "\n",
    "# 折れ線グラフに変換\n",
    "df_grouped.plot(kind=\"line\", title=\"月別売上\")\n",
    "plt.rc('font', family='Yu Gothic') #日本語ラベル\n",
    "plt.xlabel(\"月\")\n",
    "plt.ylabel(\"売上\")\n",
    "plt.savefig(\"monthly_sales.png\")\n",
    "plt.show()"
   ]
  },
  {
   "cell_type": "markdown",
   "id": "07badf1a",
   "metadata": {},
   "source": [
    "## ✅ ステップ ③：Excel へのグラフ貼り付け（openpyxl）"
   ]
  },
  {
   "cell_type": "code",
   "execution_count": null,
   "id": "5c1c281c",
   "metadata": {},
   "outputs": [],
   "source": [
    "import openpyxl\n",
    "from openpyxl.drawing.image import Image\n",
    "\n",
    "# 既存のExcelファイルにグラフ画像を貼り付け\n",
    "wb = openpyxl.load_workbook(\"./data/report.xlsx\")\n",
    "ws = wb.active\n",
    "img = Image(\"monthly_sales.png\")\n",
    "ws.add_image(img, \"E5\")\n",
    "wb.save(\"report_with_chart.xlsx\")"
   ]
  },
  {
   "cell_type": "markdown",
   "id": "53c0e75c",
   "metadata": {},
   "source": [
    "## ✅ ステップ ④：Word レポートの自動生成（python-docx）"
   ]
  },
  {
   "cell_type": "code",
   "execution_count": null,
   "id": "22ed5d34",
   "metadata": {},
   "outputs": [],
   "source": [
    "from docx import Document\n",
    "from docx.shared import Inches\n",
    "\n",
    "doc = Document()\n",
    "doc.add_heading(\"売上レポート\", level=1)\n",
    "\n",
    "doc.add_paragraph(\"以下は月別の売上推移です。\")\n",
    "doc.add_picture(\"sales_line.png\", width=Inches(5))\n",
    "\n",
    "doc.add_paragraph(\"このグラフから、4月に売上が最も高かったことが分かります。\")\n",
    "doc.save(\"sales_report.docx\")"
   ]
  },
  {
   "cell_type": "markdown",
   "id": "f21eec16",
   "metadata": {},
   "source": [
    "## ✅ ステップ ⑤：PDF 化と応用展開\n",
    "\n",
    "### 📌 Word から PDF へ変換（Windows 環境）\n",
    "\n",
    "- Word で開いて「名前を付けて保存」→ PDF を選択\n",
    "- Python からの PDF 生成には`reportlab`, `pdfkit`, `weasyprint`等も使用可（別途教材）"
   ]
  },
  {
   "cell_type": "markdown",
   "id": "95a0be9c",
   "metadata": {},
   "source": [
    "### 🚀 最終ゴール\n",
    "\n",
    "- 可視化・自動レポート化によって、分析結果を社内外に共有できるようになること。"
   ]
  }
 ],
 "metadata": {
  "kernelspec": {
   "display_name": "venv",
   "language": "python",
   "name": "python3"
  },
  "language_info": {
   "codemirror_mode": {
    "name": "ipython",
    "version": 3
   },
   "file_extension": ".py",
   "mimetype": "text/x-python",
   "name": "python",
   "nbconvert_exporter": "python",
   "pygments_lexer": "ipython3",
   "version": "3.13.1"
  }
 },
 "nbformat": 4,
 "nbformat_minor": 5
}
