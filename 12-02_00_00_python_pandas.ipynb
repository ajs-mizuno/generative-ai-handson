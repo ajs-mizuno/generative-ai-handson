{
 "cells": [
  {
   "cell_type": "markdown",
   "id": "115b808d",
   "metadata": {},
   "source": [
    "# 📊 pandas 実践教材：データ処理の基本と応用\n",
    "\n",
    "この教材は、Pythonのデータ分析ライブラリ「pandas」を使って、業務でよく使われる表データの処理方法を学ぶための実践ガイドです。"
   ]
  },
  {
   "cell_type": "markdown",
   "id": "1ed2fbc2",
   "metadata": {},
   "source": [
    "## ✅ ステップ①：基本操作\n",
    "\n",
    "### 📌 データの読み込み"
   ]
  },
  {
   "cell_type": "code",
   "execution_count": null,
   "id": "5be8afe3",
   "metadata": {},
   "outputs": [],
   "source": [
    "import pandas as pd\n",
    "\n",
    "# CSVファイル読み込み\n",
    "df = pd.read_csv(\"data/pandas/sales.csv\")\n",
    "\n",
    "# Excelファイル読み込み\n",
    "df = pd.read_excel(\"data/pandas/sales.xlsx\")"
   ]
  },
  {
   "cell_type": "markdown",
   "id": "52ece948",
   "metadata": {},
   "source": [
    "### 📌 データの確認"
   ]
  },
  {
   "cell_type": "code",
   "execution_count": null,
   "id": "85a48d74",
   "metadata": {},
   "outputs": [],
   "source": [
    "print(df.head())      # 先頭5行\n",
    "print(df.tail())      # 最後の5行\n",
    "print(df.shape)       # 行数と列数\n",
    "print(df.columns)     # カラム名一覧\n",
    "print(df.info())      # 型やnullの有無"
   ]
  },
  {
   "cell_type": "markdown",
   "id": "be35152b",
   "metadata": {},
   "source": [
    "### 📌 特定列の抽出と基本統計"
   ]
  },
  {
   "cell_type": "code",
   "execution_count": null,
   "id": "399de22b",
   "metadata": {},
   "outputs": [],
   "source": [
    "print(df[\"売上\"].mean())  # 平均\n",
    "print(df[\"売上\"].sum())   # 合計\n",
    "print(df[\"担当者\"].unique())  # ユニーク値"
   ]
  },
  {
   "cell_type": "markdown",
   "id": "40887a93",
   "metadata": {},
   "source": [
    "## ✅ ステップ②：フィルタ・並べ替え・集計\n",
    "\n",
    "### 📌 条件による抽出（フィルタ）"
   ]
  },
  {
   "cell_type": "code",
   "execution_count": null,
   "id": "246a823e",
   "metadata": {},
   "outputs": [],
   "source": [
    "high_sales = df[df[\"売上\"] >= 10000]\n",
    "print(high_sales)"
   ]
  },
  {
   "cell_type": "markdown",
   "id": "2ae2e67f",
   "metadata": {},
   "source": [
    "### 📌 並べ替え"
   ]
  },
  {
   "cell_type": "code",
   "execution_count": null,
   "id": "f04c9c28",
   "metadata": {},
   "outputs": [],
   "source": [
    "sorted_df = df.sort_values(by=\"売上\", ascending=False)\n",
    "print(sorted_df)"
   ]
  },
  {
   "cell_type": "markdown",
   "id": "defbfa49",
   "metadata": {},
   "source": [
    "### 📌 グループ集計"
   ]
  },
  {
   "cell_type": "code",
   "execution_count": null,
   "id": "2f0e80ef",
   "metadata": {},
   "outputs": [],
   "source": [
    "grouped = df.groupby(\"担当者\")[\"売上\"].sum().reset_index()\n",
    "print(grouped)"
   ]
  },
  {
   "cell_type": "markdown",
   "id": "6c4e133a",
   "metadata": {},
   "source": [
    "## ✅ ステップ③：列の追加・変換・削除\n",
    "\n",
    "### 📌 新しい列の追加"
   ]
  },
  {
   "cell_type": "code",
   "execution_count": null,
   "id": "8ff04862",
   "metadata": {},
   "outputs": [],
   "source": [
    "df[\"税込売上\"] = df[\"売上\"] * 1.1\n",
    "print(df)"
   ]
  },
  {
   "cell_type": "markdown",
   "id": "53d361d7",
   "metadata": {},
   "source": [
    "### 📌 日付列から年月を抽出"
   ]
  },
  {
   "cell_type": "code",
   "execution_count": null,
   "id": "ea3b8ef2",
   "metadata": {},
   "outputs": [],
   "source": [
    "df[\"日付\"] = pd.to_datetime(df[\"日付\"])\n",
    "df[\"月\"] = df[\"日付\"].dt.month\n",
    "print(df)"
   ]
  },
  {
   "cell_type": "markdown",
   "id": "b126fd8e",
   "metadata": {},
   "source": [
    "### 📌 列の削除"
   ]
  },
  {
   "cell_type": "code",
   "execution_count": null,
   "id": "edb6449e",
   "metadata": {},
   "outputs": [],
   "source": [
    "df.drop(columns=[\"メモ\"], inplace=True)\n",
    "print(df)"
   ]
  },
  {
   "cell_type": "markdown",
   "id": "5d20d66d",
   "metadata": {},
   "source": [
    "## ✅ ステップ④：データの結合と整形\n",
    "\n",
    "### 📌 加工データの保存"
   ]
  },
  {
   "cell_type": "code",
   "execution_count": null,
   "id": "147feb78",
   "metadata": {},
   "outputs": [],
   "source": [
    "# CSVとして保存（インデックスを含めず）\n",
    "df.to_csv(\"out/pandas/output.csv\", index=False)\n",
    "\n",
    "# Excelとして保存\n",
    "df.to_excel(\"out/pandas/output.xlsx\", index=False)"
   ]
  },
  {
   "cell_type": "markdown",
   "id": "8f3297d9",
   "metadata": {},
   "source": [
    "### 📌 複数のCSVを結合"
   ]
  },
  {
   "cell_type": "code",
   "execution_count": null,
   "id": "350f7fa1",
   "metadata": {},
   "outputs": [],
   "source": [
    "import glob\n",
    "files = glob.glob(\"data/pandas/*.csv\")\n",
    "df_list = [pd.read_csv(f) for f in files]\n",
    "all_data = pd.concat(df_list)\n",
    "print(all_data)"
   ]
  },
  {
   "cell_type": "markdown",
   "id": "ec9605b1",
   "metadata": {},
   "source": [
    "### 📌 データのピボット（列⇔行）"
   ]
  },
  {
   "cell_type": "code",
   "execution_count": null,
   "id": "9b268e5b",
   "metadata": {},
   "outputs": [],
   "source": [
    "pivot_df = df.pivot_table(index=\"担当者\", columns=\"月\", values=\"売上\", aggfunc=\"sum\")\n",
    "print(pivot_df)"
   ]
  },
  {
   "cell_type": "markdown",
   "id": "ae0338be",
   "metadata": {},
   "source": [
    "## ✅ ステップ⑤：実践課題例\n",
    "\n",
    "### 📁 課題1：高売上データの抽出\n",
    "\n",
    "* 条件：売上が10,000円以上のレコードを抽出\n",
    "* 出力形式：CSVで保存（`to_csv()`）\n",
    "\n",
    "### 📊 課題2：月別売上のグラフ化\n",
    "\n",
    "* `groupby` + `plot()`（matplotlibとの併用）\n",
    "\n",
    "### 📈 課題3：前年比較のための差分列作成\n",
    "\n",
    "* 売上前年との差（新規列）を追加"
   ]
  },
  {
   "cell_type": "markdown",
   "id": "687145d3",
   "metadata": {},
   "source": [
    "## 🔚 補足\n",
    "\n",
    "* 欠損値の処理：`fillna()` / `dropna()`\n",
    "* データ型変換：`astype()`\n",
    "* datetime処理、カテゴリ型、列のmap・apply関数"
   ]
  },
  {
   "cell_type": "markdown",
   "id": "2165c71f",
   "metadata": {},
   "source": [
    "### 🚀 最終ゴール\n",
    "\n",
    "* CSVやExcelの実データを使って、集計・抽出・整形・可視化が自力でできるようになること。"
   ]
  }
 ],
 "metadata": {
  "kernelspec": {
   "display_name": "venv",
   "language": "python",
   "name": "python3"
  },
  "language_info": {
   "codemirror_mode": {
    "name": "ipython",
    "version": 3
   },
   "file_extension": ".py",
   "mimetype": "text/x-python",
   "name": "python",
   "nbconvert_exporter": "python",
   "pygments_lexer": "ipython3",
   "version": "3.13.1"
  }
 },
 "nbformat": 4,
 "nbformat_minor": 5
}
