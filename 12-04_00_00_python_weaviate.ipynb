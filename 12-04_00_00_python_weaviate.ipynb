{
 "cells": [
  {
   "cell_type": "markdown",
   "id": "65d06e76",
   "metadata": {},
   "source": [
    "# Weaviate v4 実践教材\n",
    "\n",
    "このノートブックでは、Weaviate v4 Python クライアントを使ったベクトル検索の基本から、LangChain を用いた質問応答（RAG）アプリケーションの構築までを実行形式で学んでいきます。"
   ]
  },
  {
   "cell_type": "markdown",
   "id": "adf64c35",
   "metadata": {},
   "source": [
    "## セットアップ\n",
    "\n",
    "以下のコードセルを実行して、必要なライブラリをインストールしてください。"
   ]
  },
  {
   "cell_type": "code",
   "execution_count": null,
   "id": "de99cbd5",
   "metadata": {},
   "outputs": [],
   "source": [
    "# ライブラリのインストール\n",
    "%pip install -U weaviate-client langchain langchain-weaviate langchain-openai python-dotenv"
   ]
  },
  {
   "cell_type": "markdown",
   "id": "dce29bc3",
   "metadata": {},
   "source": [
    "## ステップ ①：Weaviate サーバーの起動 (Docker Compose)\n",
    "\n",
    "ターミナルで以下の `docker-compose.yml` を用意し、`docker compose up -d` で Weaviate を起動してください。なお、AzureOpenAI の埋め込みを使う場合は `AZURE_APIKEY` を適宜設定します。\n",
    "\n",
    "```yaml\n",
    "services:\n",
    "  weaviate:\n",
    "    image: semitechnologies/weaviate:1.30.2\n",
    "    ports:\n",
    "      - \"8080:8080\"\n",
    "      - \"50051:50051\"\n",
    "    volumes:\n",
    "      - weaviate_data:/var/lib/weaviate\n",
    "    restart: on-failure:0\n",
    "    environment:\n",
    "      QUERY_DEFAULTS_LIMIT: 25\n",
    "      AUTHENTICATION_ANONYMOUS_ACCESS_ENABLED: \"true\"\n",
    "      AZURE_APIKEY: \"XXXX\" #取得したAPIキー\n",
    "      PERSISTENCE_DATA_PATH: \"/var/lib/weaviate\"\n",
    "      ENABLE_API_BASED_MODULES: \"true\"\n",
    "      CLUSTER_HOSTNAME: \"node1\"\n",
    "volumes:\n",
    "  weaviate_data:\n",
    "```"
   ]
  },
  {
   "cell_type": "markdown",
   "id": "8655f850",
   "metadata": {},
   "source": [
    "### 確認: Weaviate が起動しているかどうか\n",
    "\n",
    "以下のコードセルを実行して、コネクションが確立できれば `True` が表示されます。"
   ]
  },
  {
   "cell_type": "code",
   "execution_count": null,
   "id": "abd4db1d",
   "metadata": {},
   "outputs": [],
   "source": [
    "import weaviate\n",
    "\n",
    "# ローカルの Weaviate に接続\n",
    "client = weaviate.connect_to_local()\n",
    "print(\"Is Weaviate ready?\", client.is_ready())\n",
    "\n",
    "# クローズ\n",
    "client.close()"
   ]
  },
  {
   "cell_type": "markdown",
   "id": "96a6f2a5",
   "metadata": {},
   "source": [
    "## ステップ ②：コレクション（スキーマ）を作成\n",
    "\n",
    "以下のコードセルを実行して、`Document` コレクションを作成します。既に存在する場合は例外が出ますが、無視して次に進んでください。"
   ]
  },
  {
   "cell_type": "code",
   "execution_count": null,
   "id": "ed3b460e",
   "metadata": {},
   "outputs": [],
   "source": [
    "import weaviate\n",
    "import weaviate.classes.config as wvcc\n",
    "from dotenv import load_dotenv\n",
    "\n",
    "import os\n",
    "load_dotenv()\n",
    "client = weaviate.connect_to_local()\n",
    "\n",
    "try:\n",
    "    client.collections.delete(\"Document\")\n",
    "    collection = client.collections.create(\n",
    "        name=\"Document\",\n",
    "        description=\"文書データを格納するコレクション\",\n",
    "        properties=[\n",
    "            wvcc.Property(name=\"title\", data_type=wvcc.DataType.TEXT),\n",
    "            wvcc.Property(name=\"content\", data_type=wvcc.DataType.TEXT),\n",
    "        ],\n",
    "        vectorizer_config=wvcc.Configure.Vectorizer.text2vec_azure_openai(\n",
    "            base_url=os.environ.get(\"AZURE_OPENAI_ENDPOINT\"),\n",
    "            deployment_id=os.environ.get(\"AZURE_OPENAI_EMBEDDING_DEPLOYMENT_MODEL\"),\n",
    "            resource_name=os.environ.get(\"AZURE_OPENAI_RESOURCE_NAME\")\n",
    "        )\n",
    "    )\n",
    "    print(f\"Created collection: {collection.name}\")\n",
    "except Exception as e:\n",
    "    print(\"Collection may already exist or error occurred:\", e)\n",
    "\n",
    "client.close()"
   ]
  },
  {
   "cell_type": "markdown",
   "id": "9c5bc225",
   "metadata": {},
   "source": [
    "## ステップ ③：データ登録\n",
    "\n",
    "`Document` コレクションにサンプルデータを登録します。"
   ]
  },
  {
   "cell_type": "code",
   "execution_count": null,
   "id": "0ffcebd0",
   "metadata": {},
   "outputs": [],
   "source": [
    "import weaviate\n",
    "\n",
    "client = weaviate.connect_to_local()\n",
    "doc_collection = client.collections.get(\"Document\")\n",
    "\n",
    "# サンプルドキュメントを登録\n",
    "uuid1 = doc_collection.data.insert(\n",
    "    properties={\n",
    "        \"title\": \"請求書の処理方法\",\n",
    "        \"content\": \"請求書は翌月3営業日までに提出してください。\"\n",
    "    }\n",
    ")\n",
    "print(f\"Inserted object UUID: {uuid1}\")\n",
    "\n",
    "uuid2 = doc_collection.data.insert(\n",
    "    properties={\n",
    "        \"title\": \"会議の議事録の書き方\",\n",
    "        \"content\": \"議事録は項目ごとに要点をまとめ、参加者と決定事項を明確に記載します。\"\n",
    "    }\n",
    ")\n",
    "print(f\"Inserted object UUID: {uuid2}\")\n",
    "\n",
    "client.close()"
   ]
  },
  {
   "cell_type": "markdown",
   "id": "66d92f68",
   "metadata": {},
   "source": [
    "## ステップ ④：ベクトル検索の実行\n",
    "\n",
    "`近似` 検索を行い、類似度上位のドキュメントを取得します。"
   ]
  },
  {
   "cell_type": "code",
   "execution_count": null,
   "id": "d1f09b0b",
   "metadata": {},
   "outputs": [],
   "source": [
    "import weaviate\n",
    "\n",
    "client     = weaviate.connect_to_local()\n",
    "collection = client.collections.get(\"Document\")\n",
    "\n",
    "# テキスト検索\n",
    "response = collection.query.near_text(\n",
    "    query=\"請求書 締切\",                  # 検索キーワード\n",
    "    return_properties=[\"title\",\"content\"],  # 取得するプロパティ\n",
    "    limit=3                               # 上位3件\n",
    ")\n",
    "\n",
    "# 結果の出力\n",
    "for obj in response.objects:\n",
    "    print(\"Title:\",   obj.properties.get(\"title\"))\n",
    "    print(\"Content:\", obj.properties.get(\"content\"))\n",
    "    print(\"---\")\n",
    "\n",
    "client.close()\n"
   ]
  },
  {
   "cell_type": "markdown",
   "id": "75c9c574",
   "metadata": {},
   "source": [
    "## ステップ ⑤：LangChain と組み合わせた質問応答（RAG）\n",
    "\n",
    "以下のコードセルを実行して、Weaviate × LangChain による RetrievalQA チェーンを構築し、質問応答を試します。\n",
    "\n",
    "- `OpenAIEmbeddings()` と `ChatOpenAI(model=\"gpt-4o\")` を用いているため、環境変数 `OPENAI_API_KEY` を設定しておいてください。"
   ]
  },
  {
   "cell_type": "code",
   "execution_count": null,
   "id": "4d8fe437",
   "metadata": {},
   "outputs": [],
   "source": [
    "import os\n",
    "import weaviate\n",
    "from dotenv import load_dotenv\n",
    "\n",
    "# LangChain 関連\n",
    "from langchain_openai import AzureOpenAIEmbeddings, AzureChatOpenAI\n",
    "from langchain_weaviate import WeaviateVectorStore\n",
    "from langchain.chains import RetrievalQA\n",
    "\n",
    "# 1. 接続情報の読込\n",
    "load_dotenv()\n",
    "\n",
    "# 2. Weaviate クライアント初期化 (ローカル)\n",
    "client = weaviate.connect_to_local()\n",
    "\n",
    "# 3. Embeddings モデルの初期化\n",
    "embeddings = AzureOpenAIEmbeddings(\n",
    "    deployment=os.getenv(\"AZURE_OPENAI_EMBEDDING_DEPLOYMENT_MODEL\"),\n",
    "    api_version=os.getenv(\"AZURE_OPENAI_EMBEDDING_DEPLOYMENT_API_VERSION\")\n",
    ")\n",
    "\n",
    "# 4. WeaviateVectorStore のセットアップ\n",
    "vectorstore = WeaviateVectorStore(\n",
    "    client=client,\n",
    "    index_name=\"Document\",       # Weaviate 側のクラス名\n",
    "    text_key=\"content\",          # プロパティ名 (本文格納フィールド)\n",
    "    embedding=embeddings,\n",
    ")\n",
    "\n",
    "# 5. Retriever の取得 (上位 k 件)\n",
    "retriever = vectorstore.as_retriever(search_kwargs={\"k\": 3})\n",
    "\n",
    "# 6. LLM モデルの初期化\n",
    "llm = AzureChatOpenAI(\n",
    "    azure_deployment=os.getenv(\"AZURE_OPENAI_LLM_DEPLOYMENT_MODEL\"),\n",
    "    api_version=os.getenv(\"AZURE_OPENAI_LLM_DEPLOYMENT_API_VERSION\")\n",
    ")\n",
    "\n",
    "# 7. RetrievalQA チェーンの構築\n",
    "qa_chain = RetrievalQA.from_chain_type(\n",
    "    llm=llm,\n",
    "    retriever=retriever,\n",
    "    chain_type=\"stuff\",                  # \"stuff\" / \"map_reduce\" / \"refine\" など\n",
    "    return_source_documents=False        # True にするとソースを返す\n",
    ")\n",
    "\n",
    "# 8. 実際にクエリを実行\n",
    "query = \"請求書の提出期限は？\"\n",
    "answer = qa_chain.invoke(query)\n",
    "print(\"Q&A Answer:\", answer)\n",
    "\n",
    "# 9. クライアントのクローズ\n",
    "client.close()\n"
   ]
  },
  {
   "cell_type": "markdown",
   "id": "524418cd",
   "metadata": {},
   "source": [
    "以上で、Weaviate v4 + LangChain の基本的な流れを手元で実行できます。各セルを順番に実行して試してみてください。"
   ]
  }
 ],
 "metadata": {
  "kernelspec": {
   "display_name": "venv",
   "language": "python",
   "name": "python3"
  },
  "language_info": {
   "codemirror_mode": {
    "name": "ipython",
    "version": 3
   },
   "file_extension": ".py",
   "mimetype": "text/x-python",
   "name": "python",
   "nbconvert_exporter": "python",
   "pygments_lexer": "ipython3",
   "version": "3.13.1"
  }
 },
 "nbformat": 4,
 "nbformat_minor": 5
}
