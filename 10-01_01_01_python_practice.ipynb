{
 "cells": [
  {
   "cell_type": "markdown",
   "id": "0dc0a112",
   "metadata": {},
   "source": [
    "## ✅ 総合問題（初心者向け）\n",
    "\n",
    "### 🔸 **問題文**\n",
    "\n",
    "あなたは「会員リスト」を扱うシンプルなアプリを作ろうとしています。  \n",
    "以下の仕様に沿ってPythonコードを完成させてください。\n",
    "\n",
    "---\n",
    "\n",
    "### 【仕様】\n",
    "\n",
    "1. `users` は複数のユーザー情報（名前・年齢・会員ステータス）を持つ辞書のリストです。\n",
    "2. 年齢が20歳以上かつ `is_member` が `True` の人だけを「有効会員」として抽出します。\n",
    "3. 有効会員の名前を全て**大文字**にしてリストにまとめます。\n",
    "4. 有効会員が**全員30歳未満**なら「若手中心の会員構成」と表示し、そうでなければ「年齢層は多様です」と表示します。\n",
    "\n",
    "---\n",
    "\n",
    "### 🔸 **入力データ（固定）**\n",
    "\n",
    "```python\n",
    "users = [\n",
    "    {\"name\": \"tanaka\", \"age\": 25, \"is_member\": True},\n",
    "    {\"name\": \"sato\", \"age\": 19, \"is_member\": True},\n",
    "    {\"name\": \"yamada\", \"age\": 32, \"is_member\": True},\n",
    "    {\"name\": \"kato\", \"age\": 22, \"is_member\": False}\n",
    "]\n",
    "```\n",
    "\n",
    "---\n",
    "\n",
    "### 🔸 **期待される出力**\n",
    "\n",
    "```\n",
    "有効会員一覧: ['TANAKA', 'YAMADA']\n",
    "年齢層は多様です\n",
    "```\n",
    "\n"
   ]
  },
  {
   "cell_type": "code",
   "execution_count": null,
   "id": "896533db",
   "metadata": {},
   "outputs": [],
   "source": [
    "users = [\n",
    "    {\"name\": \"tanaka\", \"age\": 25, \"is_member\": True},\n",
    "    {\"name\": \"sato\", \"age\": 19, \"is_member\": True},\n",
    "    {\"name\": \"yamada\", \"age\": 32, \"is_member\": True},\n",
    "    {\"name\": \"kato\", \"age\": 22, \"is_member\": False}\n",
    "]\n",
    "print(users)\n",
    "\n",
    "# コードを書く"
   ]
  }
 ],
 "metadata": {
  "kernelspec": {
   "display_name": "venv",
   "language": "python",
   "name": "python3"
  },
  "language_info": {
   "codemirror_mode": {
    "name": "ipython",
    "version": 3
   },
   "file_extension": ".py",
   "mimetype": "text/x-python",
   "name": "python",
   "nbconvert_exporter": "python",
   "pygments_lexer": "ipython3",
   "version": "3.13.1"
  }
 },
 "nbformat": 4,
 "nbformat_minor": 5
}
